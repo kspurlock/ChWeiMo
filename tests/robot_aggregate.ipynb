{
 "cells": [
  {
   "cell_type": "code",
   "execution_count": null,
   "metadata": {},
   "outputs": [],
   "source": [
    "import numpy as np\n",
    "import pandas as pd\n",
    "import time\n",
    "import sys\n",
    "import os\n",
    "\n",
    "sys.path.append(\"../\")\n",
    "\n",
    "from sklearn.ensemble import RandomForestClassifier\n",
    "from sklearn.metrics import (\n",
    "    confusion_matrix,\n",
    "    accuracy_score,\n",
    "    precision_score,\n",
    "    recall_score,\n",
    ")\n",
    "from sklearn.preprocessing import LabelEncoder\n",
    "from sklearn.model_selection import KFold\n",
    "\n",
    "os.environ[\"OMP_NUM_THREADS\"] = \"2\""
   ]
  },
  {
   "cell_type": "code",
   "execution_count": null,
   "metadata": {},
   "outputs": [],
   "source": []
  },
  {
   "cell_type": "code",
   "execution_count": null,
   "metadata": {},
   "outputs": [],
   "source": []
  },
  {
   "cell_type": "code",
   "execution_count": null,
   "metadata": {},
   "outputs": [],
   "source": [
    "data_maximums = dataset.iloc[:, :-1].max()\n",
    "\n",
    "discrete_map = np.where(\n",
    "    data_maximums < 20, 1, 0\n",
    ")  # Can use np.where(discrete_map == 1, cols, 0)\n",
    "continuous_map = np.where(data_maximums > 20, 1, 0)\n",
    "feature_map = {\"continuous\": continuous_map, \"discrete\": discrete_map}"
   ]
  },
  {
   "cell_type": "code",
   "execution_count": null,
   "metadata": {},
   "outputs": [],
   "source": [
    "from sklearn.model_selection import train_test_split\n",
    "import matplotlib.pyplot as plt\n",
    "from sklearn.metrics import confusion_matrix, ConfusionMatrixDisplay\n",
    "import numpy as np\n",
    "\n",
    "def split_by_cm(x, y, model, test_size=0.20, plot_cm=False, class_names=None):\n",
    "        \n",
    "    cm_dict_x = {\"true_neg\":[], \"false_neg\":[], \"true_pos\":[], \"false_pos\":[]}\n",
    "    cm_dict_y = {\"true_neg\":[], \"false_neg\":[], \"true_pos\":[], \"false_pos\":[]}\n",
    "    \n",
    "    x_train, x_test, y_train, y_test = train_test_split(\n",
    "        x, y, test_size=test_size, random_state=0, stratify = y\n",
    "        )\n",
    "\n",
    "    model.fit(x_train, y_train)\n",
    "    y_prob = model.predict_proba(x_test)\n",
    "    y_pred = np.argmax(y_prob, axis=1)\n",
    "    cm = confusion_matrix(y_test, y_pred)\n",
    "    \n",
    "    if class_names == None:\n",
    "        class_names = np.unique(y_pred)\n",
    "        \n",
    "    if plot_cm:\n",
    "        plt.rcParams['font.size'] = '15'\n",
    "        fig = ConfusionMatrixDisplay(cm, display_labels=class_names)\n",
    "        fig.plot(cmap=\"Greens\", colorbar=False, xticks_rotation=\"horizontal\")\n",
    "\n",
    "    for i in range(x_test.shape[0]):\n",
    "        #Four cases\n",
    "        if y_test[i] == 1:\n",
    "            if y_pred[i] == y_test[i]:\n",
    "                cm_dict_x[\"true_pos\"].append(x_test[i])\n",
    "                cm_dict_y[\"true_pos\"].append(y_prob[i])\n",
    "            else:\n",
    "                cm_dict_x[\"false_pos\"].append(x_test[i])\n",
    "                cm_dict_y[\"false_pos\"].append(y_prob[i])\n",
    "\n",
    "        elif y_test[i] == 0:\n",
    "            if y_pred[i] == y_test[i]:\n",
    "                cm_dict_x[\"true_neg\"].append(x_test[i])\n",
    "                cm_dict_y[\"true_neg\"].append(y_prob[i])\n",
    "            else:\n",
    "                cm_dict_x[\"false_neg\"].append(x_test[i])\n",
    "                cm_dict_y[\"false_neg\"].append(y_prob[i])\n",
    "        else:\n",
    "            raise AssertionError\n",
    "\n",
    "    return {\"samples\":cm_dict_x, \"prob\":cm_dict_y}"
   ]
  },
  {
   "cell_type": "code",
   "execution_count": null,
   "metadata": {},
   "outputs": [],
   "source": [
    "splits = split_by_cm(X, Y, model, test_size=0.02, plot_cm=True, class_names=class_names)"
   ]
  },
  {
   "cell_type": "code",
   "execution_count": null,
   "metadata": {},
   "outputs": [],
   "source": [
    "from chweimo.counterfactual import Optimizer\n",
    "\n",
    "explainer = Optimizer(X, Y, model.predict_proba, col_names=cols)"
   ]
  },
  {
   "cell_type": "code",
   "execution_count": null,
   "metadata": {},
   "outputs": [],
   "source": [
    "from chweimo.explain_tools import perform_aggregation\n",
    "test = perform_aggregation(explainer, splits,\n",
    "                           type_dict=feature_map, termination=10, verbose=False, pop_size=40,\n",
    "                           data_name=\"German Credit\")"
   ]
  },
  {
   "cell_type": "code",
   "execution_count": null,
   "metadata": {},
   "outputs": [],
   "source": []
  }
 ],
 "metadata": {
  "kernelspec": {
   "display_name": "Python 3.9.0 64-bit",
   "language": "python",
   "name": "python3"
  },
  "language_info": {
   "codemirror_mode": {
    "name": "ipython",
    "version": 3
   },
   "file_extension": ".py",
   "mimetype": "text/x-python",
   "name": "python",
   "nbconvert_exporter": "python",
   "pygments_lexer": "ipython3",
   "version": "3.9.0"
  },
  "orig_nbformat": 4,
  "vscode": {
   "interpreter": {
    "hash": "eabca979b0553fa6d87e9a00c352604d3b703d4afc9641643dd42376492b80f6"
   }
  }
 },
 "nbformat": 4,
 "nbformat_minor": 2
}
