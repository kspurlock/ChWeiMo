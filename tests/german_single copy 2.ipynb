{
 "cells": [
  {
   "cell_type": "code",
   "execution_count": 4,
   "metadata": {},
   "outputs": [],
   "source": [
    "import numpy as np\n",
    "import pandas as pd\n",
    "import time\n",
    "import sys\n",
    "import os\n",
    "\n",
    "sys.path.append(\"../\")"
   ]
  },
  {
   "cell_type": "code",
   "execution_count": 5,
   "metadata": {},
   "outputs": [],
   "source": [
    "from sklearn.ensemble import RandomForestClassifier\n",
    "from sklearn.metrics import (\n",
    "    confusion_matrix,\n",
    "    accuracy_score,\n",
    "    precision_score,\n",
    "    recall_score,\n",
    ")\n",
    "from sklearn.preprocessing import LabelEncoder\n",
    "from sklearn.model_selection import KFold\n",
    "\n",
    "os.environ[\"OMP_NUM_THREADS\"] = \"2\""
   ]
  },
  {
   "cell_type": "code",
   "execution_count": 6,
   "metadata": {},
   "outputs": [],
   "source": [
    "def preprocessing():\n",
    "    dataset = pd.read_csv(\"./data/german_credit_data.csv\").drop(\"Unnamed: 0\", axis=1)\n",
    "\n",
    "    dataset.dropna(axis=0, how=\"any\", thresh=None, subset=None, inplace=True)\n",
    "\n",
    "    for column in dataset.columns:\n",
    "        if dataset[column].dtype != np.dtype(\"int64\"):\n",
    "            dataset[column] = LabelEncoder().fit_transform(dataset[column])\n",
    "\n",
    "    return dataset\n",
    "\n",
    "\n",
    "def train_model(x, y, model):\n",
    "    cv = KFold(n_splits=3, random_state=None)\n",
    "    global total_cm\n",
    "    total_cm = np.zeros((2, 2))\n",
    "    metric_dict = {}\n",
    "    split_dict = {}\n",
    "\n",
    "    it = 0\n",
    "    for train_ind, test_ind in cv.split(x):\n",
    "        x_train, x_test = x[train_ind], x[test_ind]\n",
    "        y_train, y_test = y[train_ind], y[test_ind]\n",
    "\n",
    "        model.fit(x_train, y_train)\n",
    "        y_pred = model.predict(x_test)\n",
    "\n",
    "        total_cm += confusion_matrix(y_test, y_pred)\n",
    "\n",
    "        metrics = [\n",
    "            accuracy_score(y_test, y_pred) * 100,\n",
    "            precision_score(y_test, y_pred) * 100,\n",
    "            recall_score(y_test, y_pred) * 100,\n",
    "        ]\n",
    "\n",
    "        metrics = np.round(metrics, decimals=2)\n",
    "\n",
    "        metric_dict[it] = metrics\n",
    "        split_dict[it] = (train_ind, test_ind)\n",
    "        it += 1\n",
    "\n",
    "    return total_cm, metric_dict, split_dict"
   ]
  },
  {
   "cell_type": "code",
   "execution_count": 7,
   "metadata": {},
   "outputs": [],
   "source": [
    "dataset = preprocessing()\n",
    "\n",
    "model = RandomForestClassifier(n_estimators=100, criterion=\"entropy\")\n",
    "# model2 = LogisticRegression(max_iter = 1000)\n",
    "\n",
    "cols = dataset.iloc[:, :-1].columns.values\n",
    "class_names = [\"Bad Risk\", \"No Risk\"]\n",
    "X = dataset.drop(dataset.columns[-1], axis=1).values\n",
    "Y = dataset.iloc[:, [-1]].values.reshape(-1,)\n",
    "\n",
    "cm, metrics, splits = train_model(X, Y, model)\n",
    "\n",
    "x_train, x_test = X[splits[0][0]], X[splits[0][1]]\n",
    "y_train, y_test = Y[splits[0][0]], Y[splits[0][1]]"
   ]
  },
  {
   "cell_type": "code",
   "execution_count": 8,
   "metadata": {},
   "outputs": [],
   "source": [
    "from chweimo.counterfactual import Optimizer\n",
    "\n",
    "explainer = Optimizer(X, Y, model.predict_proba)\n",
    "\n",
    "x_orig = x_test[0]\n",
    "x_orig_y = model.predict_proba(x_orig.reshape(1, -1)).reshape(-1)\n",
    "change_class = np.argmin(x_orig_y)\n",
    "\n",
    "explainer.generate_cf(\n",
    "            sample=x_orig,\n",
    "            change_class=change_class,\n",
    "            termination=50,\n",
    "            verbose=False\n",
    "        )"
   ]
  },
  {
   "cell_type": "code",
   "execution_count": 9,
   "metadata": {},
   "outputs": [
    {
     "name": "stdout",
     "output_type": "stream",
     "text": [
      "R2: 0.8232737199459302\n",
      "KL Divergence: 0.6119733719215966\n",
      "gini: 0.4629977176046765\n"
     ]
    }
   ],
   "source": [
    "from chweimo.explain_tools.linear_model import find_weight\n",
    "norm_coef, sparse_coef = find_weight(explainer, verbose=True)"
   ]
  },
  {
   "cell_type": "code",
   "execution_count": null,
   "metadata": {},
   "outputs": [],
   "source": [
    "norm_coef"
   ]
  }
 ],
 "metadata": {
  "kernelspec": {
   "display_name": "Python 3.9.0 ('venv': venv)",
   "language": "python",
   "name": "python3"
  },
  "language_info": {
   "codemirror_mode": {
    "name": "ipython",
    "version": 3
   },
   "file_extension": ".py",
   "mimetype": "text/x-python",
   "name": "python",
   "nbconvert_exporter": "python",
   "pygments_lexer": "ipython3",
   "version": "3.9.0"
  },
  "orig_nbformat": 4,
  "vscode": {
   "interpreter": {
    "hash": "eba46b6f56a655313654d282faa921e8d63f43f5d28b60e9e0e0bd61c6d20d31"
   }
  }
 },
 "nbformat": 4,
 "nbformat_minor": 2
}
