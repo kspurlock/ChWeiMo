{
 "cells": [
  {
   "cell_type": "code",
   "execution_count": 5,
   "metadata": {},
   "outputs": [
    {
     "ename": "NameError",
     "evalue": "name 'get_problem' is not defined",
     "output_type": "error",
     "traceback": [
      "\u001b[1;31m---------------------------------------------------------------------------\u001b[0m",
      "\u001b[1;31mNameError\u001b[0m                                 Traceback (most recent call last)",
      "\u001b[1;32mc:\\Users\\kylei\\Documents\\GitHub\\ChWeiMo\\tests\\test.ipynb Cell 1\u001b[0m in \u001b[0;36m<cell line: 18>\u001b[1;34m()\u001b[0m\n\u001b[0;32m     <a href='vscode-notebook-cell:/c%3A/Users/kylei/Documents/GitHub/ChWeiMo/tests/test.ipynb#W0sZmlsZQ%3D%3D?line=13'>14</a>\u001b[0m         \u001b[39mself\u001b[39m\u001b[39m.\u001b[39mn_evals\u001b[39m.\u001b[39mappend(algorithm\u001b[39m.\u001b[39mevaluator\u001b[39m.\u001b[39mn_eval)\n\u001b[0;32m     <a href='vscode-notebook-cell:/c%3A/Users/kylei/Documents/GitHub/ChWeiMo/tests/test.ipynb#W0sZmlsZQ%3D%3D?line=14'>15</a>\u001b[0m         \u001b[39mself\u001b[39m\u001b[39m.\u001b[39mopt\u001b[39m.\u001b[39mappend(algorithm\u001b[39m.\u001b[39mopt[\u001b[39m0\u001b[39m]\u001b[39m.\u001b[39mF)\n\u001b[1;32m---> <a href='vscode-notebook-cell:/c%3A/Users/kylei/Documents/GitHub/ChWeiMo/tests/test.ipynb#W0sZmlsZQ%3D%3D?line=17'>18</a>\u001b[0m problem \u001b[39m=\u001b[39m get_problem(\u001b[39m\"\u001b[39m\u001b[39mackley\u001b[39m\u001b[39m\"\u001b[39m)\n\u001b[0;32m     <a href='vscode-notebook-cell:/c%3A/Users/kylei/Documents/GitHub/ChWeiMo/tests/test.ipynb#W0sZmlsZQ%3D%3D?line=18'>19</a>\u001b[0m algorithm \u001b[39m=\u001b[39m PSO()\n\u001b[0;32m     <a href='vscode-notebook-cell:/c%3A/Users/kylei/Documents/GitHub/ChWeiMo/tests/test.ipynb#W0sZmlsZQ%3D%3D?line=19'>20</a>\u001b[0m callback \u001b[39m=\u001b[39m MyCallback()\n",
      "\u001b[1;31mNameError\u001b[0m: name 'get_problem' is not defined"
     ]
    }
   ],
   "source": [
    "from pymoo.algorithms.soo.nonconvex.pso import PSO\n",
    "import pymoo\n",
    "from pymoo.optimize import minimize\n",
    "from pymoo.core.callback import Callback\n",
    "\n",
    "\n",
    "problem = pymoo.problems\n",
    "algorithm = PSO()\n",
    "callback = MyCallback()\n",
    "\n",
    "res = minimize(problem,\n",
    "               algorithm,\n",
    "               callback=callback,\n",
    "               termination=('n_gen', 50),\n",
    "               seed=1)"
   ]
  },
  {
   "cell_type": "code",
   "execution_count": null,
   "metadata": {},
   "outputs": [],
   "source": []
  }
 ],
 "metadata": {
  "kernelspec": {
   "display_name": "Python 3.9.0 64-bit",
   "language": "python",
   "name": "python3"
  },
  "language_info": {
   "codemirror_mode": {
    "name": "ipython",
    "version": 3
   },
   "file_extension": ".py",
   "mimetype": "text/x-python",
   "name": "python",
   "nbconvert_exporter": "python",
   "pygments_lexer": "ipython3",
   "version": "3.9.0"
  },
  "orig_nbformat": 4,
  "vscode": {
   "interpreter": {
    "hash": "eabca979b0553fa6d87e9a00c352604d3b703d4afc9641643dd42376492b80f6"
   }
  }
 },
 "nbformat": 4,
 "nbformat_minor": 2
}
