{
 "cells": [
  {
   "cell_type": "code",
   "execution_count": 1,
   "metadata": {},
   "outputs": [],
   "source": [
    "import numpy as np\n",
    "import pandas as pd\n",
    "import time\n",
    "import sys\n",
    "import os\n",
    "\n",
    "sys.path.append(\"../\")"
   ]
  },
  {
   "cell_type": "code",
   "execution_count": 2,
   "metadata": {},
   "outputs": [],
   "source": [
    "from sklearn.ensemble import RandomForestClassifier\n",
    "from sklearn.metrics import (\n",
    "    confusion_matrix,\n",
    "    accuracy_score,\n",
    "    precision_score,\n",
    "    recall_score,\n",
    ")\n",
    "from sklearn.preprocessing import LabelEncoder\n",
    "from sklearn.model_selection import KFold\n",
    "\n",
    "os.environ[\"OMP_NUM_THREADS\"] = \"2\""
   ]
  },
  {
   "cell_type": "code",
   "execution_count": 3,
   "metadata": {},
   "outputs": [],
   "source": [
    "def preprocessing():\n",
    "    dataset = pd.read_csv(\"./data/german_credit_data.csv\").drop(\"Unnamed: 0\", axis=1)\n",
    "\n",
    "    dataset.dropna(axis=0, how=\"any\", thresh=None, subset=None, inplace=True)\n",
    "\n",
    "    for column in dataset.columns:\n",
    "        if dataset[column].dtype != np.dtype(\"int64\"):\n",
    "            dataset[column] = LabelEncoder().fit_transform(dataset[column])\n",
    "\n",
    "    return dataset\n",
    "\n",
    "\n",
    "def train_model(x, y, model):\n",
    "    cv = KFold(n_splits=3, random_state=None)\n",
    "    global total_cm\n",
    "    total_cm = np.zeros((2, 2))\n",
    "    metric_dict = {}\n",
    "    split_dict = {}\n",
    "\n",
    "    it = 0\n",
    "    for train_ind, test_ind in cv.split(x):\n",
    "        x_train, x_test = x[train_ind], x[test_ind]\n",
    "        y_train, y_test = y[train_ind], y[test_ind]\n",
    "\n",
    "        model.fit(x_train, y_train)\n",
    "        y_pred = model.predict(x_test)\n",
    "\n",
    "        total_cm += confusion_matrix(y_test, y_pred)\n",
    "\n",
    "        metrics = [\n",
    "            accuracy_score(y_test, y_pred) * 100,\n",
    "            precision_score(y_test, y_pred) * 100,\n",
    "            recall_score(y_test, y_pred) * 100,\n",
    "        ]\n",
    "\n",
    "        metrics = np.round(metrics, decimals=2)\n",
    "\n",
    "        metric_dict[it] = metrics\n",
    "        split_dict[it] = (train_ind, test_ind)\n",
    "        it += 1\n",
    "\n",
    "    return total_cm, metric_dict, split_dict"
   ]
  },
  {
   "cell_type": "code",
   "execution_count": 4,
   "metadata": {},
   "outputs": [],
   "source": [
    "global input_shape\n",
    "\n",
    "dataset = preprocessing()\n",
    "\n",
    "model = RandomForestClassifier(n_estimators=100, criterion=\"entropy\")\n",
    "# model2 = LogisticRegression(max_iter = 1000)\n",
    "\n",
    "cols = dataset.iloc[:, :-1].columns.values\n",
    "class_names = [\"Bad Risk\", \"No Risk\"]\n",
    "X = dataset.drop(dataset.columns[-1], axis=1).values\n",
    "Y = dataset.iloc[:, [-1]].values.reshape(-1,)\n",
    "\n",
    "cm, metrics, splits = train_model(X, Y, model)\n",
    "\n",
    "x_train, x_test = X[splits[0][0]], X[splits[0][1]]\n",
    "y_train, y_test = Y[splits[0][0]], Y[splits[0][1]]"
   ]
  },
  {
   "cell_type": "code",
   "execution_count": 5,
   "metadata": {},
   "outputs": [
    {
     "name": "stderr",
     "output_type": "stream",
     "text": [
      "c:\\Users\\kylei\\Documents\\GitHub\\ChWeiMo\\venv\\lib\\site-packages\\numpy\\core\\fromnumeric.py:84: FutureWarning: In a future version, DataFrame.max(axis=None) will return a scalar max over the entire DataFrame. To retain the old behavior, use 'frame.max(axis=0)' or just 'frame.max()'\n",
      "  return reduction(axis=axis, out=out, **passkwargs)\n"
     ]
    }
   ],
   "source": [
    "from chweimo.utils import split_by_cm\n",
    "\n",
    "cm_splits, x_train, x_test, y_train, y_test = split_by_cm(X, Y, model)\n",
    "cm_labels = [\"true_neg\", \"false_neg\", \"true_pos\", \"false_pos\"]\n",
    "\n",
    "data_maximums = np.max(dataset.iloc[:, :-1])\n",
    "\n",
    "discrete_map = np.where(\n",
    "    data_maximums < 20, 1, 0\n",
    ")  # Can use np.where(discrete_map == 1, cols, 0)\n",
    "continuous_map = np.where(data_maximums > 20, 1, 0)\n",
    "feature_map = {\"continuous\": continuous_map, \"discrete\": discrete_map}"
   ]
  },
  {
   "cell_type": "code",
   "execution_count": 6,
   "metadata": {},
   "outputs": [
    {
     "ename": "AttributeError",
     "evalue": "'Optimizer' object has no attribute 'optimize_instance'",
     "output_type": "error",
     "traceback": [
      "\u001b[1;31m---------------------------------------------------------------------------\u001b[0m",
      "\u001b[1;31mAttributeError\u001b[0m                            Traceback (most recent call last)",
      "\u001b[1;32mc:\\Users\\kylei\\Documents\\GitHub\\ChWeiMo\\tests\\german_aggregate.ipynb Cell 6\u001b[0m in \u001b[0;36m<cell line: 10>\u001b[1;34m()\u001b[0m\n\u001b[0;32m     <a href='vscode-notebook-cell:/c%3A/Users/kylei/Documents/GitHub/ChWeiMo/tests/german_aggregate.ipynb#W6sZmlsZQ%3D%3D?line=18'>19</a>\u001b[0m x_orig_y \u001b[39m=\u001b[39m model\u001b[39m.\u001b[39mpredict_proba(x_orig\u001b[39m.\u001b[39mreshape(\u001b[39m1\u001b[39m, \u001b[39m-\u001b[39m\u001b[39m1\u001b[39m))\u001b[39m.\u001b[39mreshape(\u001b[39m-\u001b[39m\u001b[39m1\u001b[39m)\n\u001b[0;32m     <a href='vscode-notebook-cell:/c%3A/Users/kylei/Documents/GitHub/ChWeiMo/tests/german_aggregate.ipynb#W6sZmlsZQ%3D%3D?line=20'>21</a>\u001b[0m change_class \u001b[39m=\u001b[39m np\u001b[39m.\u001b[39margmin(x_orig_y)  \u001b[39m# what class do we need to change to\u001b[39;00m\n\u001b[1;32m---> <a href='vscode-notebook-cell:/c%3A/Users/kylei/Documents/GitHub/ChWeiMo/tests/german_aggregate.ipynb#W6sZmlsZQ%3D%3D?line=22'>23</a>\u001b[0m res \u001b[39m=\u001b[39m explainer\u001b[39m.\u001b[39;49moptimize_instance(\n\u001b[0;32m     <a href='vscode-notebook-cell:/c%3A/Users/kylei/Documents/GitHub/ChWeiMo/tests/german_aggregate.ipynb#W6sZmlsZQ%3D%3D?line=23'>24</a>\u001b[0m     sample\u001b[39m=\u001b[39mx_orig,\n\u001b[0;32m     <a href='vscode-notebook-cell:/c%3A/Users/kylei/Documents/GitHub/ChWeiMo/tests/german_aggregate.ipynb#W6sZmlsZQ%3D%3D?line=24'>25</a>\u001b[0m     change_class\u001b[39m=\u001b[39mchange_class,\n\u001b[0;32m     <a href='vscode-notebook-cell:/c%3A/Users/kylei/Documents/GitHub/ChWeiMo/tests/german_aggregate.ipynb#W6sZmlsZQ%3D%3D?line=25'>26</a>\u001b[0m     plausible\u001b[39m=\u001b[39m\u001b[39mTrue\u001b[39;00m,\n\u001b[0;32m     <a href='vscode-notebook-cell:/c%3A/Users/kylei/Documents/GitHub/ChWeiMo/tests/german_aggregate.ipynb#W6sZmlsZQ%3D%3D?line=26'>27</a>\u001b[0m     method\u001b[39m=\u001b[39m\u001b[39m\"\u001b[39m\u001b[39mNSGA2\u001b[39m\u001b[39m\"\u001b[39m,\n\u001b[0;32m     <a href='vscode-notebook-cell:/c%3A/Users/kylei/Documents/GitHub/ChWeiMo/tests/german_aggregate.ipynb#W6sZmlsZQ%3D%3D?line=27'>28</a>\u001b[0m     termination\u001b[39m=\u001b[39m\u001b[39m50\u001b[39m,\n\u001b[0;32m     <a href='vscode-notebook-cell:/c%3A/Users/kylei/Documents/GitHub/ChWeiMo/tests/german_aggregate.ipynb#W6sZmlsZQ%3D%3D?line=28'>29</a>\u001b[0m )\n\u001b[0;32m     <a href='vscode-notebook-cell:/c%3A/Users/kylei/Documents/GitHub/ChWeiMo/tests/german_aggregate.ipynb#W6sZmlsZQ%3D%3D?line=30'>31</a>\u001b[0m section_X\u001b[39m.\u001b[39mappend(res\u001b[39m.\u001b[39mhistory[\u001b[39m-\u001b[39m\u001b[39m1\u001b[39m]\u001b[39m.\u001b[39mpop\u001b[39m.\u001b[39mget(\u001b[39m\"\u001b[39m\u001b[39mX\u001b[39m\u001b[39m\"\u001b[39m))\n\u001b[0;32m     <a href='vscode-notebook-cell:/c%3A/Users/kylei/Documents/GitHub/ChWeiMo/tests/german_aggregate.ipynb#W6sZmlsZQ%3D%3D?line=31'>32</a>\u001b[0m section_F\u001b[39m.\u001b[39mappend(res\u001b[39m.\u001b[39mhistory[\u001b[39m-\u001b[39m\u001b[39m1\u001b[39m]\u001b[39m.\u001b[39mpop\u001b[39m.\u001b[39mget(\u001b[39m\"\u001b[39m\u001b[39mF\u001b[39m\u001b[39m\"\u001b[39m))\n",
      "\u001b[1;31mAttributeError\u001b[0m: 'Optimizer' object has no attribute 'optimize_instance'"
     ]
    }
   ],
   "source": [
    "from chweimo.counterfactual import Optimizer\n",
    "from chweimo.explain import aggregate_cf, aggregate_weight\n",
    "\n",
    "start = time.process_time()  # Check how long non-plausible takes\n",
    "itera = 0\n",
    "cf_dicts = dict.fromkeys(cm_labels)\n",
    "\n",
    "plausible = True\n",
    "\n",
    "for section in [cm_splits[0]]:  # Loop for each confusion matrix section\n",
    "    section_F = []\n",
    "    section_X = []\n",
    "    section_X_orig = []\n",
    "    section_pred = []\n",
    "\n",
    "    explainer = Optimizer(X, Y, model.predict_proba)\n",
    "    for sample in [section[0]]:  # sample in each of the confusion matrix\n",
    "        x_orig = sample\n",
    "        x_orig_y = model.predict_proba(x_orig.reshape(1, -1)).reshape(-1)\n",
    "\n",
    "        change_class = np.argmin(x_orig_y)  # what class do we need to change to\n",
    "\n",
    "        res = explainer.generate_cf(\n",
    "            sample=x_orig,\n",
    "            change_class=change_class,\n",
    "            plausible=True,\n",
    "            method=\"NSGA2\",\n",
    "            termination=50,\n",
    "        )\n",
    "\n",
    "        section_X.append(res.history[-1].pop.get(\"X\"))\n",
    "        section_F.append(res.history[-1].pop.get(\"F\"))\n",
    "        section_X_orig.append(sample)\n",
    "        section_pred.append(change_class)\n",
    "\n",
    "    \"\"\"Once outside need to aggregate change weights and coefficients\"\"\"\n",
    "\n",
    "    counterfactuals = aggregate_cf(\n",
    "        section_X, section_F, section_X_orig, cm_labels[itera], cols, feature_map, plausible, \"Credit Risk\"\n",
    "    )\n",
    "    \n",
    "    aggregate_weight(section_X, section_F, section_X_orig, cm_labels[itera], cols, plausible, \"Credit Risk\")\n",
    "    \n",
    "    cf_dicts[cm_labels[itera]] = counterfactuals\n",
    "    itera += 1"
   ]
  }
 ],
 "metadata": {
  "kernelspec": {
   "display_name": "Python 3.9.0 ('venv': venv)",
   "language": "python",
   "name": "python3"
  },
  "language_info": {
   "codemirror_mode": {
    "name": "ipython",
    "version": 3
   },
   "file_extension": ".py",
   "mimetype": "text/x-python",
   "name": "python",
   "nbconvert_exporter": "python",
   "pygments_lexer": "ipython3",
   "version": "3.9.0"
  },
  "orig_nbformat": 4,
  "vscode": {
   "interpreter": {
    "hash": "eba46b6f56a655313654d282faa921e8d63f43f5d28b60e9e0e0bd61c6d20d31"
   }
  }
 },
 "nbformat": 4,
 "nbformat_minor": 2
}
