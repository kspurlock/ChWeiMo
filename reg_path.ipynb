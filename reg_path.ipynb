{
 "cells": [
  {
   "cell_type": "code",
   "execution_count": 4,
   "metadata": {},
   "outputs": [],
   "source": [
    "import numpy as np\n",
    "from sklearn.linear_model import lasso_path\n",
    "X = np.array([[1, 2, 3.1], [2.3, 5.4, 4.3]]).T\n",
    "y = np.array([1, 2, 3.1])\n",
    "\n"
   ]
  },
  {
   "cell_type": "code",
   "execution_count": 7,
   "metadata": {},
   "outputs": [],
   "source": [
    "alphas, coefs, dual_gaps, = lasso_path(X, y, n_alphas=100)"
   ]
  },
  {
   "cell_type": "code",
   "execution_count": 9,
   "metadata": {},
   "outputs": [
    {
     "name": "stdout",
     "output_type": "stream",
     "text": [
      "[8.81000000e+00 8.21623549e+00 7.66248871e+00 7.14606262e+00\n",
      " 6.66444192e+00 6.21528084e+00 5.79639171e+00 5.40573431e+00\n",
      " 5.04140591e+00 4.70163202e+00 4.38475776e+00 4.08923976e+00\n",
      " 3.81363869e+00 3.55661220e+00 3.31690845e+00 3.09335992e+00\n",
      " 2.88487781e+00 2.69044670e+00 2.50911960e+00 2.34001334e+00\n",
      " 2.18230427e+00 2.03522427e+00 1.89805696e+00 1.77013428e+00\n",
      " 1.65083315e+00 1.53957252e+00 1.43581049e+00 1.33904166e+00\n",
      " 1.24879474e+00 1.16463015e+00 1.08613798e+00 1.01293591e+00\n",
      " 9.44667423e-01 8.81000000e-01 8.21623549e-01 7.66248871e-01\n",
      " 7.14606262e-01 6.66444192e-01 6.21528084e-01 5.79639171e-01\n",
      " 5.40573431e-01 5.04140591e-01 4.70163202e-01 4.38475776e-01\n",
      " 4.08923976e-01 3.81363869e-01 3.55661220e-01 3.31690845e-01\n",
      " 3.09335992e-01 2.88487781e-01 2.69044670e-01 2.50911960e-01\n",
      " 2.34001334e-01 2.18230427e-01 2.03522427e-01 1.89805696e-01\n",
      " 1.77013428e-01 1.65083315e-01 1.53957252e-01 1.43581049e-01\n",
      " 1.33904166e-01 1.24879474e-01 1.16463015e-01 1.08613798e-01\n",
      " 1.01293591e-01 9.44667423e-02 8.81000000e-02 8.21623549e-02\n",
      " 7.66248871e-02 7.14606262e-02 6.66444192e-02 6.21528084e-02\n",
      " 5.79639171e-02 5.40573431e-02 5.04140591e-02 4.70163202e-02\n",
      " 4.38475776e-02 4.08923976e-02 3.81363869e-02 3.55661220e-02\n",
      " 3.31690845e-02 3.09335992e-02 2.88487781e-02 2.69044670e-02\n",
      " 2.50911960e-02 2.34001334e-02 2.18230427e-02 2.03522427e-02\n",
      " 1.89805696e-02 1.77013428e-02 1.65083315e-02 1.53957252e-02\n",
      " 1.43581049e-02 1.33904166e-02 1.24879474e-02 1.16463015e-02\n",
      " 1.08613798e-02 1.01293591e-02 9.44667423e-03 8.81000000e-03]\n"
     ]
    }
   ],
   "source": [
    "print(alphas)"
   ]
  },
  {
   "cell_type": "code",
   "execution_count": 12,
   "metadata": {},
   "outputs": [
    {
     "name": "stdout",
     "output_type": "stream",
     "text": [
      "100\n"
     ]
    }
   ],
   "source": [
    "print(len(coefs[0]))"
   ]
  },
  {
   "cell_type": "code",
   "execution_count": null,
   "metadata": {},
   "outputs": [],
   "source": []
  }
 ],
 "metadata": {
  "kernelspec": {
   "display_name": "Python 3.9.11 64-bit",
   "language": "python",
   "name": "python3"
  },
  "language_info": {
   "codemirror_mode": {
    "name": "ipython",
    "version": 3
   },
   "file_extension": ".py",
   "mimetype": "text/x-python",
   "name": "python",
   "nbconvert_exporter": "python",
   "pygments_lexer": "ipython3",
   "version": "3.9.11"
  },
  "orig_nbformat": 4,
  "vscode": {
   "interpreter": {
    "hash": "7b5feb760b7d07d82a7ea2c4bff8d6068fd73f221cb992ebf1521de808cb312f"
   }
  }
 },
 "nbformat": 4,
 "nbformat_minor": 2
}
